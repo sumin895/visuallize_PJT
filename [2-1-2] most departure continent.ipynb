{
 "cells": [
  {
   "cell_type": "code",
   "execution_count": 28,
   "id": "823846fc",
   "metadata": {},
   "outputs": [],
   "source": [
    "import pymysql\n",
    "import pandas as pd\n",
    "import numpy as np\n",
    "import matplotlib\n",
    "import matplotlib.pyplot as plt"
   ]
  },
  {
   "cell_type": "markdown",
   "id": "9c4aa8f7",
   "metadata": {},
   "source": [
    "# DB 연결 및 테이블 생성"
   ]
  },
  {
   "cell_type": "code",
   "execution_count": 2,
   "id": "a5795c06",
   "metadata": {},
   "outputs": [],
   "source": [
    "db = pymysql.connect(host='localhost', port=3306, user='root', \\\n",
    "                     passwd='starlight0630!', charset='utf8')\n",
    "cursor = db.cursor()"
   ]
  },
  {
   "cell_type": "code",
   "execution_count": 3,
   "id": "24c7e6d3",
   "metadata": {},
   "outputs": [
    {
     "data": {
      "text/plain": [
       "1"
      ]
     },
     "execution_count": 3,
     "metadata": {},
     "output_type": "execute_result"
    }
   ],
   "source": [
    "sql = 'create database IF NOT EXISTS visuallizePjt'\n",
    "cursor.execute(sql)"
   ]
  },
  {
   "cell_type": "code",
   "execution_count": 4,
   "id": "134558cc",
   "metadata": {},
   "outputs": [
    {
     "data": {
      "text/plain": [
       "0"
      ]
     },
     "execution_count": 4,
     "metadata": {},
     "output_type": "execute_result"
    }
   ],
   "source": [
    "sql ='use visuallizePjt'\n",
    "cursor.execute(sql)"
   ]
  },
  {
   "cell_type": "code",
   "execution_count": 5,
   "id": "529ba71f",
   "metadata": {},
   "outputs": [
    {
     "data": {
      "text/plain": [
       "0"
      ]
     },
     "execution_count": 5,
     "metadata": {},
     "output_type": "execute_result"
    }
   ],
   "source": [
    "sql = 'DROP TABLE IF EXISTS REGION_COUNTRY_DEP;'\n",
    "cursor.execute(sql)"
   ]
  },
  {
   "cell_type": "code",
   "execution_count": 6,
   "id": "2ded4441",
   "metadata": {},
   "outputs": [
    {
     "data": {
      "text/plain": [
       "0"
      ]
     },
     "execution_count": 6,
     "metadata": {},
     "output_type": "execute_result"
    }
   ],
   "source": [
    "sql = '''\n",
    "CREATE TABLE REGION_COUNTRY_DEP (\n",
    "    dep_id int not null auto_increment,\n",
    "    region varchar(10) not null,\n",
    "    nation varchar(10) not null,\n",
    "    flights int not null,\n",
    "    passengers int not null,\n",
    "    freights int not null,\n",
    "    primary key(dep_id)\n",
    ");\n",
    "'''\n",
    "cursor.execute(sql)"
   ]
  },
  {
   "cell_type": "code",
   "execution_count": 7,
   "id": "72d75711",
   "metadata": {},
   "outputs": [],
   "source": [
    "db.commit()\n",
    "db.close()"
   ]
  },
  {
   "cell_type": "markdown",
   "id": "d75d6dec",
   "metadata": {},
   "source": [
    "# 데이터 로드 및 전처리"
   ]
  },
  {
   "cell_type": "code",
   "execution_count": 8,
   "id": "3c5bc6dd",
   "metadata": {
    "scrolled": true
   },
   "outputs": [
    {
     "data": {
      "text/html": [
       "<div>\n",
       "<style scoped>\n",
       "    .dataframe tbody tr th:only-of-type {\n",
       "        vertical-align: middle;\n",
       "    }\n",
       "\n",
       "    .dataframe tbody tr th {\n",
       "        vertical-align: top;\n",
       "    }\n",
       "\n",
       "    .dataframe thead th {\n",
       "        text-align: right;\n",
       "    }\n",
       "</style>\n",
       "<table border=\"1\" class=\"dataframe\">\n",
       "  <thead>\n",
       "    <tr style=\"text-align: right;\">\n",
       "      <th></th>\n",
       "      <th>지역</th>\n",
       "      <th>국가</th>\n",
       "      <th>운항(편)</th>\n",
       "      <th>여객(명)</th>\n",
       "      <th>화물(톤)</th>\n",
       "    </tr>\n",
       "  </thead>\n",
       "  <tbody>\n",
       "    <tr>\n",
       "      <th>0</th>\n",
       "      <td>전체 합계</td>\n",
       "      <td>NaN</td>\n",
       "      <td>91714</td>\n",
       "      <td>9815393</td>\n",
       "      <td>1658148</td>\n",
       "    </tr>\n",
       "    <tr>\n",
       "      <th>1</th>\n",
       "      <td>아시아</td>\n",
       "      <td>일본</td>\n",
       "      <td>12044</td>\n",
       "      <td>1541437</td>\n",
       "      <td>147108</td>\n",
       "    </tr>\n",
       "    <tr>\n",
       "      <th>2</th>\n",
       "      <td>아시아</td>\n",
       "      <td>중국</td>\n",
       "      <td>9784</td>\n",
       "      <td>203239</td>\n",
       "      <td>217587</td>\n",
       "    </tr>\n",
       "    <tr>\n",
       "      <th>3</th>\n",
       "      <td>소계:아시아</td>\n",
       "      <td>NaN</td>\n",
       "      <td>33231</td>\n",
       "      <td>4473827</td>\n",
       "      <td>487265</td>\n",
       "    </tr>\n",
       "    <tr>\n",
       "      <th>4</th>\n",
       "      <td>아시아</td>\n",
       "      <td>네팔</td>\n",
       "      <td>97</td>\n",
       "      <td>10627</td>\n",
       "      <td>965</td>\n",
       "    </tr>\n",
       "    <tr>\n",
       "      <th>...</th>\n",
       "      <td>...</td>\n",
       "      <td>...</td>\n",
       "      <td>...</td>\n",
       "      <td>...</td>\n",
       "      <td>...</td>\n",
       "    </tr>\n",
       "    <tr>\n",
       "      <th>68</th>\n",
       "      <td>기타</td>\n",
       "      <td>이스라엘</td>\n",
       "      <td>5</td>\n",
       "      <td>606</td>\n",
       "      <td>60</td>\n",
       "    </tr>\n",
       "    <tr>\n",
       "      <th>69</th>\n",
       "      <td>기타</td>\n",
       "      <td>이집트</td>\n",
       "      <td>0</td>\n",
       "      <td>0</td>\n",
       "      <td>0</td>\n",
       "    </tr>\n",
       "    <tr>\n",
       "      <th>70</th>\n",
       "      <td>기타</td>\n",
       "      <td>카타르</td>\n",
       "      <td>574</td>\n",
       "      <td>115146</td>\n",
       "      <td>27093</td>\n",
       "    </tr>\n",
       "    <tr>\n",
       "      <th>71</th>\n",
       "      <td>기타</td>\n",
       "      <td>케냐</td>\n",
       "      <td>0</td>\n",
       "      <td>0</td>\n",
       "      <td>0</td>\n",
       "    </tr>\n",
       "    <tr>\n",
       "      <th>72</th>\n",
       "      <td>기타</td>\n",
       "      <td>한국</td>\n",
       "      <td>63</td>\n",
       "      <td>9086</td>\n",
       "      <td>9</td>\n",
       "    </tr>\n",
       "  </tbody>\n",
       "</table>\n",
       "<p>73 rows × 5 columns</p>\n",
       "</div>"
      ],
      "text/plain": [
       "        지역    국가  운항(편)    여객(명)    화물(톤)\n",
       "0    전체 합계   NaN  91714  9815393  1658148\n",
       "1      아시아    일본  12044  1541437   147108\n",
       "2      아시아    중국   9784   203239   217587\n",
       "3   소계:아시아   NaN  33231  4473827   487265\n",
       "4      아시아    네팔     97    10627      965\n",
       "..     ...   ...    ...      ...      ...\n",
       "68      기타  이스라엘      5      606       60\n",
       "69      기타   이집트      0        0        0\n",
       "70      기타   카타르    574   115146    27093\n",
       "71      기타    케냐      0        0        0\n",
       "72      기타    한국     63     9086        9\n",
       "\n",
       "[73 rows x 5 columns]"
      ]
     },
     "execution_count": 8,
     "metadata": {},
     "output_type": "execute_result"
    }
   ],
   "source": [
    "df = pd.read_excel(\"./region_country_dep.xlsx\")\n",
    "df"
   ]
  },
  {
   "cell_type": "code",
   "execution_count": 9,
   "id": "ad12c2ba",
   "metadata": {},
   "outputs": [
    {
     "data": {
      "text/html": [
       "<div>\n",
       "<style scoped>\n",
       "    .dataframe tbody tr th:only-of-type {\n",
       "        vertical-align: middle;\n",
       "    }\n",
       "\n",
       "    .dataframe tbody tr th {\n",
       "        vertical-align: top;\n",
       "    }\n",
       "\n",
       "    .dataframe thead th {\n",
       "        text-align: right;\n",
       "    }\n",
       "</style>\n",
       "<table border=\"1\" class=\"dataframe\">\n",
       "  <thead>\n",
       "    <tr style=\"text-align: right;\">\n",
       "      <th></th>\n",
       "      <th>지역</th>\n",
       "      <th>국가</th>\n",
       "      <th>운항(편)</th>\n",
       "      <th>여객(명)</th>\n",
       "      <th>화물(톤)</th>\n",
       "    </tr>\n",
       "  </thead>\n",
       "  <tbody>\n",
       "    <tr>\n",
       "      <th>1</th>\n",
       "      <td>아시아</td>\n",
       "      <td>일본</td>\n",
       "      <td>12044</td>\n",
       "      <td>1541437</td>\n",
       "      <td>147108</td>\n",
       "    </tr>\n",
       "    <tr>\n",
       "      <th>2</th>\n",
       "      <td>아시아</td>\n",
       "      <td>중국</td>\n",
       "      <td>9784</td>\n",
       "      <td>203239</td>\n",
       "      <td>217587</td>\n",
       "    </tr>\n",
       "    <tr>\n",
       "      <th>4</th>\n",
       "      <td>아시아</td>\n",
       "      <td>네팔</td>\n",
       "      <td>97</td>\n",
       "      <td>10627</td>\n",
       "      <td>965</td>\n",
       "    </tr>\n",
       "    <tr>\n",
       "      <th>5</th>\n",
       "      <td>아시아</td>\n",
       "      <td>대만</td>\n",
       "      <td>3003</td>\n",
       "      <td>138595</td>\n",
       "      <td>50519</td>\n",
       "    </tr>\n",
       "    <tr>\n",
       "      <th>6</th>\n",
       "      <td>아시아</td>\n",
       "      <td>라오스</td>\n",
       "      <td>244</td>\n",
       "      <td>28909</td>\n",
       "      <td>702</td>\n",
       "    </tr>\n",
       "    <tr>\n",
       "      <th>...</th>\n",
       "      <td>...</td>\n",
       "      <td>...</td>\n",
       "      <td>...</td>\n",
       "      <td>...</td>\n",
       "      <td>...</td>\n",
       "    </tr>\n",
       "    <tr>\n",
       "      <th>68</th>\n",
       "      <td>기타</td>\n",
       "      <td>이스라엘</td>\n",
       "      <td>5</td>\n",
       "      <td>606</td>\n",
       "      <td>60</td>\n",
       "    </tr>\n",
       "    <tr>\n",
       "      <th>69</th>\n",
       "      <td>기타</td>\n",
       "      <td>이집트</td>\n",
       "      <td>0</td>\n",
       "      <td>0</td>\n",
       "      <td>0</td>\n",
       "    </tr>\n",
       "    <tr>\n",
       "      <th>70</th>\n",
       "      <td>기타</td>\n",
       "      <td>카타르</td>\n",
       "      <td>574</td>\n",
       "      <td>115146</td>\n",
       "      <td>27093</td>\n",
       "    </tr>\n",
       "    <tr>\n",
       "      <th>71</th>\n",
       "      <td>기타</td>\n",
       "      <td>케냐</td>\n",
       "      <td>0</td>\n",
       "      <td>0</td>\n",
       "      <td>0</td>\n",
       "    </tr>\n",
       "    <tr>\n",
       "      <th>72</th>\n",
       "      <td>기타</td>\n",
       "      <td>한국</td>\n",
       "      <td>63</td>\n",
       "      <td>9086</td>\n",
       "      <td>9</td>\n",
       "    </tr>\n",
       "  </tbody>\n",
       "</table>\n",
       "<p>67 rows × 5 columns</p>\n",
       "</div>"
      ],
      "text/plain": [
       "     지역    국가  운항(편)    여객(명)   화물(톤)\n",
       "1   아시아    일본  12044  1541437  147108\n",
       "2   아시아    중국   9784   203239  217587\n",
       "4   아시아    네팔     97    10627     965\n",
       "5   아시아    대만   3003   138595   50519\n",
       "6   아시아   라오스    244    28909     702\n",
       "..  ...   ...    ...      ...     ...\n",
       "68   기타  이스라엘      5      606      60\n",
       "69   기타   이집트      0        0       0\n",
       "70   기타   카타르    574   115146   27093\n",
       "71   기타    케냐      0        0       0\n",
       "72   기타    한국     63     9086       9\n",
       "\n",
       "[67 rows x 5 columns]"
      ]
     },
     "execution_count": 9,
     "metadata": {},
     "output_type": "execute_result"
    }
   ],
   "source": [
    "# NaN 전처리 -> 괜찮은거 맞는지 확인 \n",
    "df = df.dropna(axis = 0)\n",
    "df"
   ]
  },
  {
   "cell_type": "code",
   "execution_count": 10,
   "id": "09901bff",
   "metadata": {},
   "outputs": [],
   "source": [
    "# 소계 행 전처리 ?? ?"
   ]
  },
  {
   "cell_type": "markdown",
   "id": "67db3062",
   "metadata": {},
   "source": [
    "# DB Insert"
   ]
  },
  {
   "cell_type": "code",
   "execution_count": 11,
   "id": "2a1edf3f",
   "metadata": {},
   "outputs": [],
   "source": [
    "host_name = 'localhost'\n",
    "host_port = 3306\n",
    "username = 'root'\n",
    "password = 'starlight0630!'\n",
    "database_name = 'visuallizePjt'"
   ]
  },
  {
   "cell_type": "code",
   "execution_count": 12,
   "id": "6e2b0ebb",
   "metadata": {},
   "outputs": [],
   "source": [
    "db = pymysql.connect(\\\n",
    "                    host = host_name,\\\n",
    "                    port = host_port,\\\n",
    "                    user = username, \\\n",
    "                    passwd = password, \\\n",
    "                    db = database_name, \\\n",
    "                    charset = 'utf8')"
   ]
  },
  {
   "cell_type": "code",
   "execution_count": 13,
   "id": "b61b6480",
   "metadata": {},
   "outputs": [],
   "source": [
    "cursor = db.cursor()"
   ]
  },
  {
   "cell_type": "code",
   "execution_count": 14,
   "id": "4f5c6f83",
   "metadata": {},
   "outputs": [],
   "source": [
    "sql = 'INSERT INTO REGION_COUNTRY_DEP (region, nation, flights, passengers, freights) VALUES (%s, %s, %s, %s, %s)'"
   ]
  },
  {
   "cell_type": "code",
   "execution_count": 15,
   "id": "fca54f12",
   "metadata": {},
   "outputs": [],
   "source": [
    "for idx in range(len(df)) :\n",
    "    cursor.execute(sql, tuple(df.values[idx]))"
   ]
  },
  {
   "cell_type": "code",
   "execution_count": 18,
   "id": "47cafabf",
   "metadata": {
    "scrolled": true
   },
   "outputs": [
    {
     "data": {
      "text/plain": [
       "((1, '아시아', '일본', 12044, 1541437, 147108),\n",
       " (2, '아시아', '중국', 9784, 203239, 217587),\n",
       " (3, '아시아', '네팔', 97, 10627, 965),\n",
       " (4, '아시아', '대만', 3003, 138595, 50519),\n",
       " (5, '아시아', '라오스', 244, 28909, 702),\n",
       " (6, '아시아', '말레이시아', 1726, 174841, 29288),\n",
       " (7, '아시아', '몽골', 1084, 146930, 8910),\n",
       " (8, '아시아', '미얀마', 223, 18624, 771),\n",
       " (9, '아시아', '방글라데시', 52, 4212, 222),\n",
       " (10, '아시아', '베트남', 10449, 1475633, 137705),\n",
       " (11, '아시아', '브루나이', 14, 1107, 23),\n",
       " (12, '아시아', '스리랑카', 64, 10755, 946),\n",
       " (13, '아시아', '싱가포르', 2703, 524723, 53927),\n",
       " (14, '아시아', '인도', 295, 40419, 4731),\n",
       " (15, '아시아', '인도네시아', 912, 165309, 16510),\n",
       " (16, '아시아', '캄보디아', 682, 106191, 3769),\n",
       " (17, '아시아', '태국', 4137, 781678, 36281),\n",
       " (18, '아시아', '투르크매니스탄', 0, 0, 0),\n",
       " (19, '아시아', '필리핀', 4515, 733953, 33166),\n",
       " (20, '아시아', '홍콩', 3031, 111321, 108830),\n",
       " (21, '미주', '멕시코', 200, 6286, 3172),\n",
       " (22, '미주', '미국', 20592, 1385933, 454028),\n",
       " (23, '미주', '브라질', 153, 0, 3184),\n",
       " (24, '미주', '캐나다', 1424, 241287, 24978),\n",
       " (25, '유럽', '네덜란드', 512, 67721, 14898),\n",
       " (26, '유럽', '노르웨이', 117, 0, 604),\n",
       " (27, '유럽', '독일', 3425, 219146, 78079),\n",
       " (28, '유럽', '러시아', 142, 5854, 3815),\n",
       " (29, '유럽', '룩셈부르크', 167, 0, 14693),\n",
       " (30, '유럽', '벨기에', 159, 0, 186),\n",
       " (31, '유럽', '불가리아', 0, 0, 0),\n",
       " (32, '유럽', '스웨덴', 41, 0, 115),\n",
       " (33, '유럽', '스위스', 52, 0, 48),\n",
       " (34, '유럽', '스페인', 227, 23021, 8542),\n",
       " (35, '유럽', '아제르바이잔', 168, 0, 12547),\n",
       " (36, '유럽', '영국', 560, 78408, 20748),\n",
       " (37, '유럽', '오스트리아', 84, 17163, 33292),\n",
       " (38, '유럽', '우즈베키스탄', 571, 69325, 11718),\n",
       " (39, '유럽', '우크라이나', 8, 0, 37),\n",
       " (40, '유럽', '이탈리아', 686, 42745, 11831),\n",
       " (41, '유럽', '체코', 3, 246, 39),\n",
       " (42, '유럽', '카자흐스탄', 290, 46026, 2352),\n",
       " (43, '유럽', '크로아티아', 3, 633, 12),\n",
       " (44, '유럽', '키르기즈스탄', 22, 858, 89),\n",
       " (45, '유럽', '타지키스탄', 0, 0, 95),\n",
       " (46, '유럽', '튀르키예', 609, 140093, 16837),\n",
       " (47, '유럽', '폴란드', 242, 51658, 3558),\n",
       " (48, '유럽', '프랑스', 636, 158033, 10578),\n",
       " (49, '유럽', '핀란드', 219, 39692, 4075),\n",
       " (50, '유럽', '헝가리', 119, 26569, 3192),\n",
       " (51, '대양주', '괌', 1460, 225603, 4911),\n",
       " (52, '대양주', '뉴질랜드', 190, 35194, 2521),\n",
       " (53, '대양주', '사이판', 600, 79461, 1149),\n",
       " (54, '대양주', '하와이', 699, 147513, 9580),\n",
       " (55, '대양주', '호주', 591, 101685, 3982),\n",
       " (56, '기타', '레바논', 3, 340, 27),\n",
       " (57, '기타', '모잠비크', 1, 0, 46),\n",
       " (58, '기타', '부르키나 파소', 1, 0, 23),\n",
       " (59, '기타', '사우디아라비아', 97, 11273, 1777),\n",
       " (60, '기타', '수단', 1, 0, 25),\n",
       " (61, '기타', '아랍에미레이트', 786, 230519, 16128),\n",
       " (62, '기타', '이디오피아', 153, 19767, 1516),\n",
       " (63, '기타', '이스라엘', 5, 606, 60),\n",
       " (64, '기타', '이집트', 0, 0, 0),\n",
       " (65, '기타', '카타르', 574, 115146, 27093),\n",
       " (66, '기타', '케냐', 0, 0, 0),\n",
       " (67, '기타', '한국', 63, 9086, 9))"
      ]
     },
     "execution_count": 18,
     "metadata": {},
     "output_type": "execute_result"
    }
   ],
   "source": [
    "sql = \"select * from region_country_dep;\"\n",
    "cursor.execute(sql)\n",
    "result = cursor.fetchall()\n",
    "result"
   ]
  },
  {
   "cell_type": "code",
   "execution_count": 19,
   "id": "e1777d42",
   "metadata": {},
   "outputs": [],
   "source": [
    "db.commit()\n",
    "db.close()"
   ]
  },
  {
   "cell_type": "markdown",
   "id": "cd3e01c4",
   "metadata": {},
   "source": [
    "# 시각화"
   ]
  },
  {
   "cell_type": "code",
   "execution_count": 22,
   "id": "1951935b",
   "metadata": {},
   "outputs": [],
   "source": [
    "db = pymysql.connect(\\\n",
    "                    host = host_name,\\\n",
    "                    port = host_port,\\\n",
    "                    user = username, \\\n",
    "                    passwd = password, \\\n",
    "                    db = database_name, \\\n",
    "                    charset = 'utf8')"
   ]
  },
  {
   "cell_type": "code",
   "execution_count": 24,
   "id": "b82fb706",
   "metadata": {},
   "outputs": [
    {
     "data": {
      "text/html": [
       "<div>\n",
       "<style scoped>\n",
       "    .dataframe tbody tr th:only-of-type {\n",
       "        vertical-align: middle;\n",
       "    }\n",
       "\n",
       "    .dataframe tbody tr th {\n",
       "        vertical-align: top;\n",
       "    }\n",
       "\n",
       "    .dataframe thead th {\n",
       "        text-align: right;\n",
       "    }\n",
       "</style>\n",
       "<table border=\"1\" class=\"dataframe\">\n",
       "  <thead>\n",
       "    <tr style=\"text-align: right;\">\n",
       "      <th></th>\n",
       "      <th>dep_id</th>\n",
       "      <th>region</th>\n",
       "      <th>nation</th>\n",
       "      <th>flights</th>\n",
       "      <th>passengers</th>\n",
       "      <th>freights</th>\n",
       "    </tr>\n",
       "  </thead>\n",
       "  <tbody>\n",
       "    <tr>\n",
       "      <th>0</th>\n",
       "      <td>1</td>\n",
       "      <td>아시아</td>\n",
       "      <td>일본</td>\n",
       "      <td>12044</td>\n",
       "      <td>1541437</td>\n",
       "      <td>147108</td>\n",
       "    </tr>\n",
       "    <tr>\n",
       "      <th>1</th>\n",
       "      <td>2</td>\n",
       "      <td>아시아</td>\n",
       "      <td>중국</td>\n",
       "      <td>9784</td>\n",
       "      <td>203239</td>\n",
       "      <td>217587</td>\n",
       "    </tr>\n",
       "    <tr>\n",
       "      <th>2</th>\n",
       "      <td>3</td>\n",
       "      <td>아시아</td>\n",
       "      <td>네팔</td>\n",
       "      <td>97</td>\n",
       "      <td>10627</td>\n",
       "      <td>965</td>\n",
       "    </tr>\n",
       "    <tr>\n",
       "      <th>3</th>\n",
       "      <td>4</td>\n",
       "      <td>아시아</td>\n",
       "      <td>대만</td>\n",
       "      <td>3003</td>\n",
       "      <td>138595</td>\n",
       "      <td>50519</td>\n",
       "    </tr>\n",
       "    <tr>\n",
       "      <th>4</th>\n",
       "      <td>5</td>\n",
       "      <td>아시아</td>\n",
       "      <td>라오스</td>\n",
       "      <td>244</td>\n",
       "      <td>28909</td>\n",
       "      <td>702</td>\n",
       "    </tr>\n",
       "    <tr>\n",
       "      <th>...</th>\n",
       "      <td>...</td>\n",
       "      <td>...</td>\n",
       "      <td>...</td>\n",
       "      <td>...</td>\n",
       "      <td>...</td>\n",
       "      <td>...</td>\n",
       "    </tr>\n",
       "    <tr>\n",
       "      <th>62</th>\n",
       "      <td>63</td>\n",
       "      <td>기타</td>\n",
       "      <td>이스라엘</td>\n",
       "      <td>5</td>\n",
       "      <td>606</td>\n",
       "      <td>60</td>\n",
       "    </tr>\n",
       "    <tr>\n",
       "      <th>63</th>\n",
       "      <td>64</td>\n",
       "      <td>기타</td>\n",
       "      <td>이집트</td>\n",
       "      <td>0</td>\n",
       "      <td>0</td>\n",
       "      <td>0</td>\n",
       "    </tr>\n",
       "    <tr>\n",
       "      <th>64</th>\n",
       "      <td>65</td>\n",
       "      <td>기타</td>\n",
       "      <td>카타르</td>\n",
       "      <td>574</td>\n",
       "      <td>115146</td>\n",
       "      <td>27093</td>\n",
       "    </tr>\n",
       "    <tr>\n",
       "      <th>65</th>\n",
       "      <td>66</td>\n",
       "      <td>기타</td>\n",
       "      <td>케냐</td>\n",
       "      <td>0</td>\n",
       "      <td>0</td>\n",
       "      <td>0</td>\n",
       "    </tr>\n",
       "    <tr>\n",
       "      <th>66</th>\n",
       "      <td>67</td>\n",
       "      <td>기타</td>\n",
       "      <td>한국</td>\n",
       "      <td>63</td>\n",
       "      <td>9086</td>\n",
       "      <td>9</td>\n",
       "    </tr>\n",
       "  </tbody>\n",
       "</table>\n",
       "<p>67 rows × 6 columns</p>\n",
       "</div>"
      ],
      "text/plain": [
       "    dep_id region nation  flights  passengers  freights\n",
       "0        1    아시아     일본    12044     1541437    147108\n",
       "1        2    아시아     중국     9784      203239    217587\n",
       "2        3    아시아     네팔       97       10627       965\n",
       "3        4    아시아     대만     3003      138595     50519\n",
       "4        5    아시아    라오스      244       28909       702\n",
       "..     ...    ...    ...      ...         ...       ...\n",
       "62      63     기타   이스라엘        5         606        60\n",
       "63      64     기타    이집트        0           0         0\n",
       "64      65     기타    카타르      574      115146     27093\n",
       "65      66     기타     케냐        0           0         0\n",
       "66      67     기타     한국       63        9086         9\n",
       "\n",
       "[67 rows x 6 columns]"
      ]
     },
     "execution_count": 24,
     "metadata": {},
     "output_type": "execute_result"
    }
   ],
   "source": [
    "sql = \"select * from region_country_dep\"\n",
    "df = pd.read_sql(sql,db)\n",
    "df"
   ]
  },
  {
   "cell_type": "code",
   "execution_count": 60,
   "id": "239baf0a",
   "metadata": {},
   "outputs": [
    {
     "data": {
      "text/html": [
       "<div>\n",
       "<style scoped>\n",
       "    .dataframe tbody tr th:only-of-type {\n",
       "        vertical-align: middle;\n",
       "    }\n",
       "\n",
       "    .dataframe tbody tr th {\n",
       "        vertical-align: top;\n",
       "    }\n",
       "\n",
       "    .dataframe thead th {\n",
       "        text-align: right;\n",
       "    }\n",
       "</style>\n",
       "<table border=\"1\" class=\"dataframe\">\n",
       "  <thead>\n",
       "    <tr style=\"text-align: right;\">\n",
       "      <th></th>\n",
       "      <th>dep_id</th>\n",
       "      <th>flights</th>\n",
       "      <th>passengers</th>\n",
       "      <th>freights</th>\n",
       "    </tr>\n",
       "    <tr>\n",
       "      <th>region</th>\n",
       "      <th></th>\n",
       "      <th></th>\n",
       "      <th></th>\n",
       "      <th></th>\n",
       "    </tr>\n",
       "  </thead>\n",
       "  <tbody>\n",
       "    <tr>\n",
       "      <th>기타</th>\n",
       "      <td>67</td>\n",
       "      <td>786</td>\n",
       "      <td>230519</td>\n",
       "      <td>27093</td>\n",
       "    </tr>\n",
       "    <tr>\n",
       "      <th>대양주</th>\n",
       "      <td>55</td>\n",
       "      <td>1460</td>\n",
       "      <td>225603</td>\n",
       "      <td>9580</td>\n",
       "    </tr>\n",
       "    <tr>\n",
       "      <th>미주</th>\n",
       "      <td>24</td>\n",
       "      <td>20592</td>\n",
       "      <td>1385933</td>\n",
       "      <td>454028</td>\n",
       "    </tr>\n",
       "    <tr>\n",
       "      <th>아시아</th>\n",
       "      <td>20</td>\n",
       "      <td>12044</td>\n",
       "      <td>1541437</td>\n",
       "      <td>217587</td>\n",
       "    </tr>\n",
       "    <tr>\n",
       "      <th>유럽</th>\n",
       "      <td>50</td>\n",
       "      <td>3425</td>\n",
       "      <td>219146</td>\n",
       "      <td>78079</td>\n",
       "    </tr>\n",
       "  </tbody>\n",
       "</table>\n",
       "</div>"
      ],
      "text/plain": [
       "        dep_id  flights  passengers  freights\n",
       "region                                       \n",
       "기타          67      786      230519     27093\n",
       "대양주         55     1460      225603      9580\n",
       "미주          24    20592     1385933    454028\n",
       "아시아         20    12044     1541437    217587\n",
       "유럽          50     3425      219146     78079"
      ]
     },
     "execution_count": 60,
     "metadata": {},
     "output_type": "execute_result"
    }
   ],
   "source": [
    "result = df.groupby('region').max('flights')\n",
    "result"
   ]
  },
  {
   "cell_type": "code",
   "execution_count": 64,
   "id": "f521dcb3",
   "metadata": {
    "scrolled": true
   },
   "outputs": [
    {
     "ename": "KeyError",
     "evalue": "'region'",
     "output_type": "error",
     "traceback": [
      "\u001b[1;31m---------------------------------------------------------------------------\u001b[0m",
      "\u001b[1;31mKeyError\u001b[0m                                  Traceback (most recent call last)",
      "\u001b[1;32mC:\\Anaconda3\\lib\\site-packages\\pandas\\core\\indexes\\base.py\u001b[0m in \u001b[0;36mget_loc\u001b[1;34m(self, key, method, tolerance)\u001b[0m\n\u001b[0;32m   3628\u001b[0m             \u001b[1;32mtry\u001b[0m\u001b[1;33m:\u001b[0m\u001b[1;33m\u001b[0m\u001b[1;33m\u001b[0m\u001b[0m\n\u001b[1;32m-> 3629\u001b[1;33m                 \u001b[1;32mreturn\u001b[0m \u001b[0mself\u001b[0m\u001b[1;33m.\u001b[0m\u001b[0m_engine\u001b[0m\u001b[1;33m.\u001b[0m\u001b[0mget_loc\u001b[0m\u001b[1;33m(\u001b[0m\u001b[0mcasted_key\u001b[0m\u001b[1;33m)\u001b[0m\u001b[1;33m\u001b[0m\u001b[1;33m\u001b[0m\u001b[0m\n\u001b[0m\u001b[0;32m   3630\u001b[0m             \u001b[1;32mexcept\u001b[0m \u001b[0mKeyError\u001b[0m \u001b[1;32mas\u001b[0m \u001b[0merr\u001b[0m\u001b[1;33m:\u001b[0m\u001b[1;33m\u001b[0m\u001b[1;33m\u001b[0m\u001b[0m\n",
      "\u001b[1;32mC:\\Anaconda3\\lib\\site-packages\\pandas\\_libs\\index.pyx\u001b[0m in \u001b[0;36mpandas._libs.index.IndexEngine.get_loc\u001b[1;34m()\u001b[0m\n",
      "\u001b[1;32mC:\\Anaconda3\\lib\\site-packages\\pandas\\_libs\\index.pyx\u001b[0m in \u001b[0;36mpandas._libs.index.IndexEngine.get_loc\u001b[1;34m()\u001b[0m\n",
      "\u001b[1;32mpandas\\_libs\\hashtable_class_helper.pxi\u001b[0m in \u001b[0;36mpandas._libs.hashtable.PyObjectHashTable.get_item\u001b[1;34m()\u001b[0m\n",
      "\u001b[1;32mpandas\\_libs\\hashtable_class_helper.pxi\u001b[0m in \u001b[0;36mpandas._libs.hashtable.PyObjectHashTable.get_item\u001b[1;34m()\u001b[0m\n",
      "\u001b[1;31mKeyError\u001b[0m: 'region'",
      "\nThe above exception was the direct cause of the following exception:\n",
      "\u001b[1;31mKeyError\u001b[0m                                  Traceback (most recent call last)",
      "\u001b[1;32m~\\AppData\\Local\\Temp\\ipykernel_28188\\2971597425.py\u001b[0m in \u001b[0;36m<module>\u001b[1;34m\u001b[0m\n\u001b[0;32m      1\u001b[0m \u001b[0mplt\u001b[0m\u001b[1;33m.\u001b[0m\u001b[0mrcParams\u001b[0m\u001b[1;33m[\u001b[0m\u001b[1;34m'font.family'\u001b[0m\u001b[1;33m]\u001b[0m \u001b[1;33m=\u001b[0m \u001b[1;34m'Malgun Gothic'\u001b[0m \u001b[1;31m#폰트 변경\u001b[0m\u001b[1;33m\u001b[0m\u001b[1;33m\u001b[0m\u001b[0m\n\u001b[1;32m----> 2\u001b[1;33m \u001b[0mplt\u001b[0m\u001b[1;33m.\u001b[0m\u001b[0mpie\u001b[0m\u001b[1;33m(\u001b[0m\u001b[0mresult\u001b[0m\u001b[1;33m[\u001b[0m\u001b[1;34m'flights'\u001b[0m\u001b[1;33m]\u001b[0m\u001b[1;33m,\u001b[0m \u001b[0mlabels\u001b[0m\u001b[1;33m=\u001b[0m\u001b[0mresult\u001b[0m\u001b[1;33m[\u001b[0m\u001b[1;34m'region'\u001b[0m\u001b[1;33m]\u001b[0m\u001b[1;33m,\u001b[0m \u001b[0mautopct\u001b[0m\u001b[1;33m=\u001b[0m\u001b[1;34m'%.1f%%'\u001b[0m\u001b[1;33m)\u001b[0m\u001b[1;33m\u001b[0m\u001b[1;33m\u001b[0m\u001b[0m\n\u001b[0m\u001b[0;32m      3\u001b[0m \u001b[0mplt\u001b[0m\u001b[1;33m.\u001b[0m\u001b[0mshow\u001b[0m\u001b[1;33m(\u001b[0m\u001b[1;33m)\u001b[0m\u001b[1;33m\u001b[0m\u001b[1;33m\u001b[0m\u001b[0m\n",
      "\u001b[1;32mC:\\Anaconda3\\lib\\site-packages\\pandas\\core\\frame.py\u001b[0m in \u001b[0;36m__getitem__\u001b[1;34m(self, key)\u001b[0m\n\u001b[0;32m   3503\u001b[0m             \u001b[1;32mif\u001b[0m \u001b[0mself\u001b[0m\u001b[1;33m.\u001b[0m\u001b[0mcolumns\u001b[0m\u001b[1;33m.\u001b[0m\u001b[0mnlevels\u001b[0m \u001b[1;33m>\u001b[0m \u001b[1;36m1\u001b[0m\u001b[1;33m:\u001b[0m\u001b[1;33m\u001b[0m\u001b[1;33m\u001b[0m\u001b[0m\n\u001b[0;32m   3504\u001b[0m                 \u001b[1;32mreturn\u001b[0m \u001b[0mself\u001b[0m\u001b[1;33m.\u001b[0m\u001b[0m_getitem_multilevel\u001b[0m\u001b[1;33m(\u001b[0m\u001b[0mkey\u001b[0m\u001b[1;33m)\u001b[0m\u001b[1;33m\u001b[0m\u001b[1;33m\u001b[0m\u001b[0m\n\u001b[1;32m-> 3505\u001b[1;33m             \u001b[0mindexer\u001b[0m \u001b[1;33m=\u001b[0m \u001b[0mself\u001b[0m\u001b[1;33m.\u001b[0m\u001b[0mcolumns\u001b[0m\u001b[1;33m.\u001b[0m\u001b[0mget_loc\u001b[0m\u001b[1;33m(\u001b[0m\u001b[0mkey\u001b[0m\u001b[1;33m)\u001b[0m\u001b[1;33m\u001b[0m\u001b[1;33m\u001b[0m\u001b[0m\n\u001b[0m\u001b[0;32m   3506\u001b[0m             \u001b[1;32mif\u001b[0m \u001b[0mis_integer\u001b[0m\u001b[1;33m(\u001b[0m\u001b[0mindexer\u001b[0m\u001b[1;33m)\u001b[0m\u001b[1;33m:\u001b[0m\u001b[1;33m\u001b[0m\u001b[1;33m\u001b[0m\u001b[0m\n\u001b[0;32m   3507\u001b[0m                 \u001b[0mindexer\u001b[0m \u001b[1;33m=\u001b[0m \u001b[1;33m[\u001b[0m\u001b[0mindexer\u001b[0m\u001b[1;33m]\u001b[0m\u001b[1;33m\u001b[0m\u001b[1;33m\u001b[0m\u001b[0m\n",
      "\u001b[1;32mC:\\Anaconda3\\lib\\site-packages\\pandas\\core\\indexes\\base.py\u001b[0m in \u001b[0;36mget_loc\u001b[1;34m(self, key, method, tolerance)\u001b[0m\n\u001b[0;32m   3629\u001b[0m                 \u001b[1;32mreturn\u001b[0m \u001b[0mself\u001b[0m\u001b[1;33m.\u001b[0m\u001b[0m_engine\u001b[0m\u001b[1;33m.\u001b[0m\u001b[0mget_loc\u001b[0m\u001b[1;33m(\u001b[0m\u001b[0mcasted_key\u001b[0m\u001b[1;33m)\u001b[0m\u001b[1;33m\u001b[0m\u001b[1;33m\u001b[0m\u001b[0m\n\u001b[0;32m   3630\u001b[0m             \u001b[1;32mexcept\u001b[0m \u001b[0mKeyError\u001b[0m \u001b[1;32mas\u001b[0m \u001b[0merr\u001b[0m\u001b[1;33m:\u001b[0m\u001b[1;33m\u001b[0m\u001b[1;33m\u001b[0m\u001b[0m\n\u001b[1;32m-> 3631\u001b[1;33m                 \u001b[1;32mraise\u001b[0m \u001b[0mKeyError\u001b[0m\u001b[1;33m(\u001b[0m\u001b[0mkey\u001b[0m\u001b[1;33m)\u001b[0m \u001b[1;32mfrom\u001b[0m \u001b[0merr\u001b[0m\u001b[1;33m\u001b[0m\u001b[1;33m\u001b[0m\u001b[0m\n\u001b[0m\u001b[0;32m   3632\u001b[0m             \u001b[1;32mexcept\u001b[0m \u001b[0mTypeError\u001b[0m\u001b[1;33m:\u001b[0m\u001b[1;33m\u001b[0m\u001b[1;33m\u001b[0m\u001b[0m\n\u001b[0;32m   3633\u001b[0m                 \u001b[1;31m# If we have a listlike key, _check_indexing_error will raise\u001b[0m\u001b[1;33m\u001b[0m\u001b[1;33m\u001b[0m\u001b[0m\n",
      "\u001b[1;31mKeyError\u001b[0m: 'region'"
     ]
    }
   ],
   "source": [
    "plt.rcParams['font.family'] = 'Malgun Gothic' #폰트 변경 \n",
    "plt.pie(result['flights'], labels=result['region'], autopct='%.1f%%')\n",
    "plt.show()"
   ]
  },
  {
   "cell_type": "code",
   "execution_count": null,
   "id": "3ad1a11f",
   "metadata": {},
   "outputs": [],
   "source": []
  }
 ],
 "metadata": {
  "kernelspec": {
   "display_name": "Python 3 (ipykernel)",
   "language": "python",
   "name": "python3"
  },
  "language_info": {
   "codemirror_mode": {
    "name": "ipython",
    "version": 3
   },
   "file_extension": ".py",
   "mimetype": "text/x-python",
   "name": "python",
   "nbconvert_exporter": "python",
   "pygments_lexer": "ipython3",
   "version": "3.9.13"
  }
 },
 "nbformat": 4,
 "nbformat_minor": 5
}
